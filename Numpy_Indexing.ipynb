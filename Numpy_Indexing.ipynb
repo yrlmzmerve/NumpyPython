{
 "cells": [
  {
   "cell_type": "markdown",
   "metadata": {},
   "source": [
    "# NUMPY \n",
    "### İndexleme"
   ]
  },
  {
   "cell_type": "code",
   "execution_count": 76,
   "metadata": {},
   "outputs": [],
   "source": [
    "#import library\n",
    "import numpy as np"
   ]
  },
  {
   "cell_type": "markdown",
   "metadata": {},
   "source": [
    "### Tek Boyutlu Array"
   ]
  },
  {
   "cell_type": "code",
   "execution_count": 77,
   "metadata": {},
   "outputs": [
    {
     "data": {
      "text/plain": [
       "array([0, 1, 2, 3, 4, 5, 6, 7, 8, 9])"
      ]
     },
     "execution_count": 77,
     "metadata": {},
     "output_type": "execute_result"
    }
   ],
   "source": [
    "arr = np.arange(10)\n",
    "arr"
   ]
  },
  {
   "cell_type": "code",
   "execution_count": 78,
   "metadata": {},
   "outputs": [
    {
     "data": {
      "text/plain": [
       "array([ 0,  1,  4,  9, 16, 25, 36, 49, 64, 81], dtype=int32)"
      ]
     },
     "execution_count": 78,
     "metadata": {},
     "output_type": "execute_result"
    }
   ],
   "source": [
    "#karesii alma\n",
    "arr = np.arange(10)**2\n",
    "arr"
   ]
  },
  {
   "cell_type": "code",
   "execution_count": 82,
   "metadata": {},
   "outputs": [
    {
     "data": {
      "text/plain": [
       "9"
      ]
     },
     "execution_count": 82,
     "metadata": {},
     "output_type": "execute_result"
    }
   ],
   "source": [
    "# arr'in 3ç elemanını bulma\n",
    "arr[3]"
   ]
  },
  {
   "cell_type": "markdown",
   "metadata": {},
   "source": [
    "#### arr 'ın 3. indexten başlayarak 6.indexe kadar olan elemanlarını alma"
   ]
  },
  {
   "cell_type": "code",
   "execution_count": 83,
   "metadata": {},
   "outputs": [
    {
     "data": {
      "text/plain": [
       "array([ 9, 16, 25], dtype=int32)"
      ]
     },
     "execution_count": 83,
     "metadata": {},
     "output_type": "execute_result"
    }
   ],
   "source": [
    "arr[3:6]"
   ]
  },
  {
   "cell_type": "code",
   "execution_count": 84,
   "metadata": {},
   "outputs": [
    {
     "data": {
      "text/plain": [
       "array([   0,    1,    4,    9, 1000,   25,   36,   49,   64,   81],\n",
       "      dtype=int32)"
      ]
     },
     "execution_count": 84,
     "metadata": {},
     "output_type": "execute_result"
    }
   ],
   "source": [
    "arr[4]=1000\n",
    "arr"
   ]
  },
  {
   "cell_type": "code",
   "execution_count": 86,
   "metadata": {},
   "outputs": [
    {
     "name": "stdout",
     "output_type": "stream",
     "text": [
      "0\n",
      "2\n",
      "8\n",
      "18\n",
      "2000\n",
      "50\n",
      "72\n",
      "98\n",
      "128\n",
      "162\n"
     ]
    }
   ],
   "source": [
    "for i in arr:\n",
    "    print(i*2)"
   ]
  },
  {
   "cell_type": "markdown",
   "metadata": {},
   "source": [
    "### Çok Boyutlu  Array "
   ]
  },
  {
   "cell_type": "code",
   "execution_count": 98,
   "metadata": {},
   "outputs": [
    {
     "data": {
      "text/plain": [
       "array([0.13336741, 0.05259153, 0.26084642, 0.14416462, 0.55969165,\n",
       "       0.77810166, 0.79308326, 0.90591364, 0.25233775, 0.53327963,\n",
       "       0.10521097, 0.6979311 , 0.48685696, 0.20530067, 0.85233641,\n",
       "       0.88488451])"
      ]
     },
     "execution_count": 98,
     "metadata": {},
     "output_type": "execute_result"
    }
   ],
   "source": [
    "y = np.random.rand(16)\n",
    "\n",
    "y"
   ]
  },
  {
   "cell_type": "code",
   "execution_count": 103,
   "metadata": {},
   "outputs": [
    {
     "data": {
      "text/plain": [
       "array([[0.13336741, 0.05259153, 0.26084642, 0.14416462],\n",
       "       [0.55969165, 0.77810166, 0.79308326, 0.90591364],\n",
       "       [0.25233775, 0.53327963, 0.10521097, 0.6979311 ],\n",
       "       [0.48685696, 0.20530067, 0.85233641, 0.88488451]])"
      ]
     },
     "execution_count": 103,
     "metadata": {},
     "output_type": "execute_result"
    }
   ],
   "source": [
    "y = y.reshape(4,4)\n",
    "\n",
    "y"
   ]
  },
  {
   "cell_type": "markdown",
   "metadata": {},
   "source": [
    "##### Shape yapılmış matrix arrayi eski haline döndürmek için Ravel() func."
   ]
  },
  {
   "cell_type": "code",
   "execution_count": 100,
   "metadata": {},
   "outputs": [
    {
     "data": {
      "text/plain": [
       "array([0.13336741, 0.05259153, 0.26084642, 0.14416462, 0.55969165,\n",
       "       0.77810166, 0.79308326, 0.90591364, 0.25233775, 0.53327963,\n",
       "       0.10521097, 0.6979311 , 0.48685696, 0.20530067, 0.85233641,\n",
       "       0.88488451])"
      ]
     },
     "execution_count": 100,
     "metadata": {},
     "output_type": "execute_result"
    }
   ],
   "source": [
    "y.ravel()"
   ]
  },
  {
   "cell_type": "markdown",
   "metadata": {},
   "source": [
    "### y[0:2,1] Sıfırıncı satırdan başlayarak 2. satırı alsın ama sadece 1. sutünunu alsın"
   ]
  },
  {
   "cell_type": "code",
   "execution_count": 106,
   "metadata": {},
   "outputs": [
    {
     "data": {
      "text/plain": [
       "array([0.05259153, 0.77810166])"
      ]
     },
     "execution_count": 106,
     "metadata": {},
     "output_type": "execute_result"
    }
   ],
   "source": [
    "y[0:2,1]"
   ]
  },
  {
   "cell_type": "markdown",
   "metadata": {},
   "source": [
    "### Bütun satırları alsın, 3. sütununu alsın"
   ]
  },
  {
   "cell_type": "code",
   "execution_count": 107,
   "metadata": {},
   "outputs": [
    {
     "data": {
      "text/plain": [
       "array([0.14416462, 0.90591364, 0.6979311 , 0.88488451])"
      ]
     },
     "execution_count": 107,
     "metadata": {},
     "output_type": "execute_result"
    }
   ],
   "source": [
    "y[:,3]"
   ]
  },
  {
   "cell_type": "code",
   "execution_count": 108,
   "metadata": {},
   "outputs": [
    {
     "name": "stdout",
     "output_type": "stream",
     "text": [
      "[0.13336741 0.05259153 0.26084642 0.14416462]\n",
      "[0.55969165 0.77810166 0.79308326 0.90591364]\n",
      "[0.25233775 0.53327963 0.10521097 0.6979311 ]\n",
      "[0.48685696 0.20530067 0.85233641 0.88488451]\n"
     ]
    }
   ],
   "source": [
    "for satir in y:\n",
    "    print(satir)"
   ]
  },
  {
   "cell_type": "markdown",
   "metadata": {},
   "source": [
    "### Tüm elemanları tek satırda yazmak için Flat func yazılır"
   ]
  },
  {
   "cell_type": "code",
   "execution_count": 109,
   "metadata": {},
   "outputs": [
    {
     "name": "stdout",
     "output_type": "stream",
     "text": [
      "0.1333674146101972\n",
      "0.0525915288978811\n",
      "0.26084641895974336\n",
      "0.14416462422505483\n",
      "0.5596916458003911\n",
      "0.7781016584609494\n",
      "0.7930832628402373\n",
      "0.9059136391814573\n",
      "0.25233774739816506\n",
      "0.533279634680999\n",
      "0.10521096937421603\n",
      "0.6979310997257269\n",
      "0.48685696338115203\n",
      "0.20530066693031557\n",
      "0.8523364060484714\n",
      "0.8848845077154346\n"
     ]
    }
   ],
   "source": [
    "for satir in y.flat:\n",
    "    print(satir)"
   ]
  },
  {
   "cell_type": "markdown",
   "metadata": {},
   "source": [
    "### elemanları indexleri ile bastırır"
   ]
  },
  {
   "cell_type": "code",
   "execution_count": 111,
   "metadata": {},
   "outputs": [
    {
     "name": "stdout",
     "output_type": "stream",
     "text": [
      "((0, 0), 0.1333674146101972)\n",
      "((0, 1), 0.0525915288978811)\n",
      "((0, 2), 0.26084641895974336)\n",
      "((0, 3), 0.14416462422505483)\n",
      "((1, 0), 0.5596916458003911)\n",
      "((1, 1), 0.7781016584609494)\n",
      "((1, 2), 0.7930832628402373)\n",
      "((1, 3), 0.9059136391814573)\n",
      "((2, 0), 0.25233774739816506)\n",
      "((2, 1), 0.533279634680999)\n",
      "((2, 2), 0.10521096937421603)\n",
      "((2, 3), 0.6979310997257269)\n",
      "((3, 0), 0.48685696338115203)\n",
      "((3, 1), 0.20530066693031557)\n",
      "((3, 2), 0.8523364060484714)\n",
      "((3, 3), 0.8848845077154346)\n"
     ]
    }
   ],
   "source": [
    "for satir in np.ndenumerate(y):\n",
    "    print(satir)"
   ]
  },
  {
   "cell_type": "markdown",
   "metadata": {},
   "source": [
    "### Stack fonkciyonu\n",
    "### 2 arrayi yanyana birleştirme : hstack()\n",
    "### 2 arrayi alt alta birleştirme : vstack()"
   ]
  },
  {
   "cell_type": "code",
   "execution_count": 112,
   "metadata": {},
   "outputs": [
    {
     "data": {
      "text/plain": [
       "array([2, 3, 5, 6])"
      ]
     },
     "execution_count": 112,
     "metadata": {},
     "output_type": "execute_result"
    }
   ],
   "source": [
    "a = np.array([2,3])\n",
    "b = np.array([5,6])\n",
    "np.hstack((a,b))"
   ]
  },
  {
   "cell_type": "code",
   "execution_count": 113,
   "metadata": {},
   "outputs": [
    {
     "data": {
      "text/plain": [
       "array([[2, 3],\n",
       "       [5, 6]])"
      ]
     },
     "execution_count": 113,
     "metadata": {},
     "output_type": "execute_result"
    }
   ],
   "source": [
    "np.vstack((a,b))"
   ]
  },
  {
   "cell_type": "markdown",
   "metadata": {},
   "source": [
    "### 2 arrayi birleştirir, axis = 0 alt alta ekler"
   ]
  },
  {
   "cell_type": "code",
   "execution_count": 123,
   "metadata": {},
   "outputs": [
    {
     "data": {
      "text/plain": [
       "array([[1, 2],\n",
       "       [3, 4],\n",
       "       [5, 6]])"
      ]
     },
     "execution_count": 123,
     "metadata": {},
     "output_type": "execute_result"
    }
   ],
   "source": [
    "a = np.array([[1,2], [3,4]])\n",
    "b = np.array([[5,6]])\n",
    "np.concatenate((a,b), axis = 0)"
   ]
  },
  {
   "cell_type": "markdown",
   "metadata": {},
   "source": [
    "### 2 arrayi birleştirir, axis=1 yanyana ekler, T : b matrixinin tersini alır"
   ]
  },
  {
   "cell_type": "code",
   "execution_count": 125,
   "metadata": {},
   "outputs": [
    {
     "data": {
      "text/plain": [
       "array([[1, 2, 5],\n",
       "       [3, 4, 6]])"
      ]
     },
     "execution_count": 125,
     "metadata": {},
     "output_type": "execute_result"
    }
   ],
   "source": [
    "np.concatenate((a,b.T), axis=1)"
   ]
  }
 ],
 "metadata": {
  "kernelspec": {
   "display_name": "Python 3",
   "language": "python",
   "name": "python3"
  },
  "language_info": {
   "codemirror_mode": {
    "name": "ipython",
    "version": 3
   },
   "file_extension": ".py",
   "mimetype": "text/x-python",
   "name": "python",
   "nbconvert_exporter": "python",
   "pygments_lexer": "ipython3",
   "version": "3.7.3"
  }
 },
 "nbformat": 4,
 "nbformat_minor": 2
}
